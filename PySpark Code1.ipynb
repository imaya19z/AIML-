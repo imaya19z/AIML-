{
 "cells": [
  {
   "cell_type": "code",
   "execution_count": 0,
   "metadata": {
    "application/vnd.databricks.v1+cell": {
     "cellMetadata": {
      "byteLimit": 2048000,
      "rowLimit": 10000
     },
     "inputWidgets": {},
     "nuid": "5c12cfcd-9b6d-48fd-b3c6-a0f8513cbf4e",
     "showTitle": false,
     "tableResultSettingsMap": {},
     "title": ""
    }
   },
   "outputs": [
    {
     "output_type": "stream",
     "name": "stdout",
     "output_type": "stream",
     "text": [
      "+---+-------+-----------+------+\n| ID|   Name| Department|Salary|\n+---+-------+-----------+------+\n|  1|  Alice|Engineering| 65000|\n|  2|    Bob|  Marketing| 58000|\n|  3|Charlie|      Sales| 52000|\n|  4|  David|Engineering| 72000|\n|  5|    Eve|      Sales| 54000|\n+---+-------+-----------+------+\n\nroot\n |-- ID: long (nullable = true)\n |-- Name: string (nullable = true)\n |-- Department: string (nullable = true)\n |-- Salary: long (nullable = true)\n\n+---+-----+-----------+------+\n| ID| Name| Department|Salary|\n+---+-----+-----------+------+\n|  1|Alice|Engineering| 65000|\n|  4|David|Engineering| 72000|\n+---+-----+-----------+------+\n\n+-----------+-----+\n| Department|count|\n+-----------+-----+\n|Engineering|    2|\n|  Marketing|    1|\n|      Sales|    2|\n+-----------+-----+\n\n+-----------+-----------+\n| Department|avg(Salary)|\n+-----------+-----------+\n|Engineering|    68500.0|\n|  Marketing|    58000.0|\n|      Sales|    53000.0|\n+-----------+-----------+\n\n"
     ]
    }
   ],
   "source": [
    "from pyspark.sql import SparkSession\n",
    "spark = SparkSession.builder.appName(\"StudentAssignment\").getOrCreate()\n",
    "# Sample employee data\n",
    "data = [\n",
    " (1, \"Alice\", \"Engineering\", 65000),\n",
    " (2, \"Bob\", \"Marketing\", 58000),\n",
    " (3, \"Charlie\", \"Sales\", 52000),\n",
    " (4, \"David\", \"Engineering\", 72000),\n",
    " (5, \"Eve\", \"Sales\", 54000)\n",
    "]\n",
    "schema = [\"ID\", \"Name\", \"Department\", \"Salary\"]\n",
    "df = spark.createDataFrame(data, schema=schema)\n",
    "df.show()\n",
    "#Show schema\n",
    "df.printSchema()\n",
    "# Filter: Salary > 60000\n",
    "df.filter(df[\"Salary\"] > 60000).show()\n",
    "# Group by Department\n",
    "df.groupBy(\"Department\").count().show()\n",
    "# Average Salary by Department\n",
    "df.groupBy(\"Department\").avg(\"Salary\").show()"
   ]
  }
 ],
 "metadata": {
  "application/vnd.databricks.v1+notebook": {
   "computePreferences": null,
   "dashboards": [],
   "environmentMetadata": {
    "base_environment": "",
    "environment_version": "2"
   },
   "inputWidgetPreferences": null,
   "language": "python",
   "notebookMetadata": {
    "pythonIndentUnit": 4
   },
   "notebookName": "PySpark Code1",
   "widgets": {}
  },
  "language_info": {
   "name": "python"
  }
 },
 "nbformat": 4,
 "nbformat_minor": 0
}